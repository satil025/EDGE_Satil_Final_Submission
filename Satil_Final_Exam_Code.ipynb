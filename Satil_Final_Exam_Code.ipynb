{
 "cells": [
  {
   "cell_type": "markdown",
   "id": "f0254717",
   "metadata": {},
   "source": [
    "### Problem 01"
   ]
  },
  {
   "cell_type": "code",
   "execution_count": 1,
   "id": "87bd941b",
   "metadata": {},
   "outputs": [
    {
     "name": "stdout",
     "output_type": "stream",
     "text": [
      "The amount of choclates:10\n",
      "My frinds: 3\n",
      "Each gets 3 and left 1\n"
     ]
    }
   ],
   "source": [
    "N = int(input('The amount of choclates:'))\n",
    "M = int(input('My frinds: '))\n",
    "div = int(N/M)\n",
    "ext = int(N%M)\n",
    "print('Each gets', div, 'and left', ext)"
   ]
  },
  {
   "cell_type": "markdown",
   "id": "95d344e2",
   "metadata": {},
   "source": [
    "### Problem 02"
   ]
  },
  {
   "cell_type": "code",
   "execution_count": 2,
   "id": "35b229de",
   "metadata": {},
   "outputs": [
    {
     "name": "stdout",
     "output_type": "stream",
     "text": [
      "Enter word:    vgyfj\n",
      "13\n"
     ]
    }
   ],
   "source": [
    "word = input('Enter word:')\n",
    "\n",
    "x = 0\n",
    "for i in word:\n",
    "    if('a' <= i <= 'z') or ('A' <= i <= 'Z'):\n",
    "        x +=1\n",
    "    elif i== ' ':\n",
    "        x +=2\n",
    "print(x)\n",
    "        "
   ]
  },
  {
   "cell_type": "markdown",
   "id": "2c372d33",
   "metadata": {},
   "source": [
    "### Problem 03"
   ]
  },
  {
   "cell_type": "code",
   "execution_count": 3,
   "id": "e4147152",
   "metadata": {},
   "outputs": [
    {
     "name": "stdout",
     "output_type": "stream",
     "text": [
      "Enter the number: 5\n",
      "Output: \n",
      "5.1 = 5\n",
      "5.2 = 10\n",
      "5.3 = 15\n",
      "5.4 = 20\n",
      "5.5 = 25\n",
      "5.6 = 30\n",
      "5.7 = 35\n",
      "5.8 = 40\n",
      "5.9 = 45\n",
      "5.10 = 50\n"
     ]
    }
   ],
   "source": [
    "N = int(input(\"Enter the number: \"))\n",
    "print(\"Output: \")\n",
    "\n",
    "for i in range(1,11):\n",
    "    print(f\"{N}.{i} = {N*i}\")"
   ]
  },
  {
   "cell_type": "markdown",
   "id": "c47376c4",
   "metadata": {},
   "source": [
    "### Problem 04"
   ]
  },
  {
   "cell_type": "code",
   "execution_count": 7,
   "id": "ab638b0f",
   "metadata": {},
   "outputs": [
    {
     "name": "stdout",
     "output_type": "stream",
     "text": [
      "How many numbers do you want to save: 2\n",
      "Enter name 1: Satil\n",
      "Enter phone number 1: 12345\n",
      "Enter name 2: Satil2\n",
      "Enter phone number 2: 78907\n",
      "Satil 12345\n",
      "Satil2 78907\n"
     ]
    }
   ],
   "source": [
    "n = int(input(\"How many numbers do you want to save: \"))\n",
    "\n",
    "names = []\n",
    "phones = []\n",
    "\n",
    "for i in range(n):\n",
    "    name = input(f\"Enter name {i + 1}: \")\n",
    "    phone = input(f\"Enter phone number {i + 1}: \")\n",
    "    names.append(name)\n",
    "    phones.append(phone)\n",
    "\n",
    "for i in range(n):\n",
    "    print(f\"{names[i]} {phones[i]}\")"
   ]
  }
 ],
 "metadata": {
  "kernelspec": {
   "display_name": "Python 3 (ipykernel)",
   "language": "python",
   "name": "python3"
  },
  "language_info": {
   "codemirror_mode": {
    "name": "ipython",
    "version": 3
   },
   "file_extension": ".py",
   "mimetype": "text/x-python",
   "name": "python",
   "nbconvert_exporter": "python",
   "pygments_lexer": "ipython3",
   "version": "3.9.13"
  }
 },
 "nbformat": 4,
 "nbformat_minor": 5
}
